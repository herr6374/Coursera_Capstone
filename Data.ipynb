{
    "cells": [
        {
            "cell_type": "markdown",
            "metadata": {
                "collapsed": true
            },
            "source": "# Data"
        },
        {
            "cell_type": "markdown",
            "metadata": {},
            "source": "I will be examining traffic data in New York City(NYC) for this instance. NYC Open Data provides open access to a multitude of datasets associated with NYC and all five boroughs.  I will be using the \"Motor Vehicle Collision - Crashes\" dataset to examine a detailed list of accidents and their associated crash date, crash time, borough, more detailed information about location and results(injuries or deaths). Historical weather data will be extracted from Weather Underground. I am using this site because I have prior experience using it and know it provides accurate, well-organized data. The combination of both of these should provide for the backing to create a model for predicting accident probability. "
        }
    ],
    "metadata": {
        "kernelspec": {
            "display_name": "Python 3.6",
            "language": "python",
            "name": "python3"
        },
        "language_info": {
            "codemirror_mode": {
                "name": "ipython",
                "version": 3
            },
            "file_extension": ".py",
            "mimetype": "text/x-python",
            "name": "python",
            "nbconvert_exporter": "python",
            "pygments_lexer": "ipython3",
            "version": "3.6.9"
        }
    },
    "nbformat": 4,
    "nbformat_minor": 1
}