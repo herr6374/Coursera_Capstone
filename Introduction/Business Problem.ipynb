{
    "cells": [
        {
            "cell_type": "markdown",
            "metadata": {
                "collapsed": true
            },
            "source": "# Introduction/Business Problem"
        },
        {
            "cell_type": "markdown",
            "metadata": {},
            "source": "When examining traffic data and problems, what is one topic that always comes to mind? Safety and accidents are one topic. Unawareness of conditions around you and how they affect driving can lead to higher accident rates. When are drivers at more of a risk from external factors such as weather? Driver safety is of utmost importance not only for the driver and any passengers but also for other drivers and passengers on the road as well. Driving requires the full attention of a driver. Certain external factors may play a role in accident rates/probability. Determining the probability a driver has of being in an accident based on current weather conditions may be able to change driver consciousness and provide a safer driving environment for all."
        }
    ],
    "metadata": {
        "kernelspec": {
            "display_name": "Python 3.6",
            "language": "python",
            "name": "python3"
        },
        "language_info": {
            "codemirror_mode": {
                "name": "ipython",
                "version": 3
            },
            "file_extension": ".py",
            "mimetype": "text/x-python",
            "name": "python",
            "nbconvert_exporter": "python",
            "pygments_lexer": "ipython3",
            "version": "3.6.9"
        }
    },
    "nbformat": 4,
    "nbformat_minor": 1
}