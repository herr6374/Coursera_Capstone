{
    "cells": [
        {
            "cell_type": "code",
            "execution_count": 1,
            "metadata": {},
            "outputs": [],
            "source": "import numpy as np"
        },
        {
            "cell_type": "code",
            "execution_count": 2,
            "metadata": {},
            "outputs": [],
            "source": "import pandas as pd"
        },
        {
            "cell_type": "code",
            "execution_count": 3,
            "metadata": {},
            "outputs": [],
            "source": "import matplotlib.pyplot as plt"
        },
        {
            "cell_type": "code",
            "execution_count": 4,
            "metadata": {},
            "outputs": [],
            "source": "import seaborn as sns"
        },
        {
            "cell_type": "code",
            "execution_count": 6,
            "metadata": {},
            "outputs": [],
            "source": "plt.style.use('fivethirtyeight')"
        },
        {
            "cell_type": "code",
            "execution_count": 7,
            "metadata": {},
            "outputs": [],
            "source": "sns.set_style('whitegrid')"
        },
        {
            "cell_type": "code",
            "execution_count": 11,
            "metadata": {},
            "outputs": [
                {
                    "name": "stdout",
                    "output_type": "stream",
                    "text": "Collecting plotly_express\n  Downloading https://files.pythonhosted.org/packages/d4/d6/8a2906f51e073a4be80cab35cfa10e7a34853e60f3ed5304ac470852a08d/plotly_express-0.4.1-py2.py3-none-any.whl\nRequirement already satisfied: patsy>=0.5 in /opt/conda/envs/Python36/lib/python3.6/site-packages (from plotly_express) (0.5.1)\nCollecting plotly>=4.1.0 (from plotly_express)\n\u001b[?25l  Downloading https://files.pythonhosted.org/packages/04/20/c2d77eef33dbd40c5e3263a9a8763ffca610a4c3d2b2da21c5601e5fc5d8/plotly-4.10.0-py2.py3-none-any.whl (13.0MB)\n\u001b[K     |\u2588\u2588\u2588\u2588\u2588\u2588\u2588\u2588\u2588\u2588\u2588\u2588\u2588\u2588\u2588\u2588\u2588\u2588\u2588\u2588\u2588\u2588\u2588\u2588\u2588\u2588\u2588\u2588\u2588\u2588\u2588\u2588| 13.0MB 10.4MB/s eta 0:00:01\n\u001b[?25hRequirement already satisfied: scipy>=0.18 in /opt/conda/envs/Python36/lib/python3.6/site-packages (from plotly_express) (1.2.0)\nRequirement already satisfied: statsmodels>=0.9.0 in /opt/conda/envs/Python36/lib/python3.6/site-packages (from plotly_express) (0.9.0)\nRequirement already satisfied: numpy>=1.11 in /opt/conda/envs/Python36/lib/python3.6/site-packages (from plotly_express) (1.15.4)\nRequirement already satisfied: pandas>=0.20.0 in /opt/conda/envs/Python36/lib/python3.6/site-packages (from plotly_express) (0.24.1)\nRequirement already satisfied: six in /opt/conda/envs/Python36/lib/python3.6/site-packages (from patsy>=0.5->plotly_express) (1.12.0)\nRequirement already satisfied: retrying>=1.3.3 in /opt/conda/envs/Python36/lib/python3.6/site-packages (from plotly>=4.1.0->plotly_express) (1.3.3)\nRequirement already satisfied: python-dateutil>=2.5.0 in /opt/conda/envs/Python36/lib/python3.6/site-packages (from pandas>=0.20.0->plotly_express) (2.7.5)\nRequirement already satisfied: pytz>=2011k in /opt/conda/envs/Python36/lib/python3.6/site-packages (from pandas>=0.20.0->plotly_express) (2018.9)\nInstalling collected packages: plotly, plotly-express\n  Found existing installation: plotly 3.6.1\n    Uninstalling plotly-3.6.1:\n      Successfully uninstalled plotly-3.6.1\nSuccessfully installed plotly-4.10.0 plotly-express-0.4.1\n"
                }
            ],
            "source": "!pip install plotly_express"
        },
        {
            "cell_type": "code",
            "execution_count": 18,
            "metadata": {},
            "outputs": [
                {
                    "ename": "SyntaxError",
                    "evalue": "invalid syntax (<ipython-input-18-99e4d36e16e3>, line 1)",
                    "output_type": "error",
                    "traceback": [
                        "\u001b[0;36m  File \u001b[0;32m\"<ipython-input-18-99e4d36e16e3>\"\u001b[0;36m, line \u001b[0;32m1\u001b[0m\n\u001b[0;31m    python -m ensurepip --default-pip\u001b[0m\n\u001b[0m                      ^\u001b[0m\n\u001b[0;31mSyntaxError\u001b[0m\u001b[0;31m:\u001b[0m invalid syntax\n"
                    ]
                }
            ],
            "source": ""
        },
        {
            "cell_type": "code",
            "execution_count": null,
            "metadata": {},
            "outputs": [],
            "source": ""
        },
        {
            "cell_type": "code",
            "execution_count": null,
            "metadata": {},
            "outputs": [],
            "source": ""
        },
        {
            "cell_type": "code",
            "execution_count": null,
            "metadata": {},
            "outputs": [],
            "source": ""
        },
        {
            "cell_type": "code",
            "execution_count": null,
            "metadata": {},
            "outputs": [],
            "source": ""
        }
    ],
    "metadata": {
        "kernelspec": {
            "display_name": "Python 3.6",
            "language": "python",
            "name": "python3"
        },
        "language_info": {
            "codemirror_mode": {
                "name": "ipython",
                "version": 3
            },
            "file_extension": ".py",
            "mimetype": "text/x-python",
            "name": "python",
            "nbconvert_exporter": "python",
            "pygments_lexer": "ipython3",
            "version": "3.6.9"
        }
    },
    "nbformat": 4,
    "nbformat_minor": 1
}